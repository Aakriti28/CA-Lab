{
 "cells": [
  {
   "cell_type": "code",
   "execution_count": 12,
   "metadata": {},
   "outputs": [],
   "source": [
    "import moviepy.editor as mp"
   ]
  },
  {
   "cell_type": "code",
   "execution_count": 16,
   "metadata": {},
   "outputs": [
    {
     "name": "stderr",
     "output_type": "stream",
     "text": [
      "\r",
      "t:   0%|                                                                                                                                                            | 0/780 [00:00<?, ?it/s, now=None]"
     ]
    },
    {
     "name": "stdout",
     "output_type": "stream",
     "text": [
      "Moviepy - Building video shel2.mp4.\n",
      "Moviepy - Writing video shel2.mp4\n",
      "\n"
     ]
    },
    {
     "name": "stderr",
     "output_type": "stream",
     "text": [
      "                                                                                                                                                                                                      \r"
     ]
    },
    {
     "name": "stdout",
     "output_type": "stream",
     "text": [
      "Moviepy - Done !\n",
      "Moviepy - video ready shel2.mp4\n"
     ]
    }
   ],
   "source": [
    "video = mp.VideoFileClip(\"shel.mp4\")\n",
    "\n",
    "# delete video fragment from 00:30 to 01:00\n",
    "segments = [\n",
    "#             (51, 52), #4\n",
    "#            (57, 59), #3\n",
    "            (71, 74), #4\n",
    "            (81, 83), #3\n",
    "            (93, 102),\n",
    "            (93, 102),\n",
    "            (108, 111),\n",
    "#             (114, 116)\n",
    "           ]\n",
    "\n",
    "clips = []  # list of all video fragments\n",
    "for start_seconds, end_seconds in segments:\n",
    "    # crop a video clip and add it to list\n",
    "    c = video.subclip(start_seconds, end_seconds)\n",
    "    clips.append(c)\n",
    "\n",
    "final_clip = mp.concatenate_videoclips(clips).set_fps(30)\n",
    "# final_clip = mp.concatenate_videoclips((final_clip1))\n",
    "\n",
    "# final_clip = final_clip1.crop(x1, y1, x2, y2)\n",
    "final_clip.write_videofile(\"shel2.mp4\")\n",
    "final_clip.close()"
   ]
  },
  {
   "cell_type": "code",
   "execution_count": 2,
   "metadata": {},
   "outputs": [
    {
     "ename": "NameError",
     "evalue": "name 'mp' is not defined",
     "output_type": "error",
     "traceback": [
      "\u001b[0;31m---------------------------------------------------------------------------\u001b[0m",
      "\u001b[0;31mNameError\u001b[0m                                 Traceback (most recent call last)",
      "\u001b[0;32m<ipython-input-2-665d283607aa>\u001b[0m in \u001b[0;36m<module>\u001b[0;34m()\u001b[0m\n\u001b[0;32m----> 1\u001b[0;31m \u001b[0mvideo\u001b[0m \u001b[0;34m=\u001b[0m \u001b[0mmp\u001b[0m\u001b[0;34m.\u001b[0m\u001b[0mVideoFileClip\u001b[0m\u001b[0;34m(\u001b[0m\u001b[0;34m\"tbbt1.mp4\"\u001b[0m\u001b[0;34m)\u001b[0m\u001b[0;34m\u001b[0m\u001b[0;34m\u001b[0m\u001b[0m\n\u001b[0m\u001b[1;32m      2\u001b[0m \u001b[0;34m\u001b[0m\u001b[0m\n\u001b[1;32m      3\u001b[0m \u001b[0;31m# delete video fragment from 00:30 to 01:00\u001b[0m\u001b[0;34m\u001b[0m\u001b[0;34m\u001b[0m\u001b[0;34m\u001b[0m\u001b[0m\n\u001b[1;32m      4\u001b[0m segments = [(24.5, 31),\n\u001b[1;32m      5\u001b[0m            \u001b[0;34m(\u001b[0m\u001b[0;36m37\u001b[0m\u001b[0;34m,\u001b[0m \u001b[0;36m42\u001b[0m\u001b[0;34m)\u001b[0m\u001b[0;34m,\u001b[0m\u001b[0;34m\u001b[0m\u001b[0;34m\u001b[0m\u001b[0m\n",
      "\u001b[0;31mNameError\u001b[0m: name 'mp' is not defined"
     ]
    }
   ],
   "source": [
    "video = mp.VideoFileClip(\"tbbt1.mp4\")\n",
    "\n",
    "# delete video fragment from 00:30 to 01:00\n",
    "segments = [(24.5, 31),\n",
    "           (37, 42),\n",
    "           (45, 47),\n",
    "           (66, 70),\n",
    "           (73, 80)\n",
    "           ]\n",
    "\n",
    "clips = []  # list of all video fragments\n",
    "for start_seconds, end_seconds in segments:\n",
    "    # crop a video clip and add it to list\n",
    "    c = video.subclip(start_seconds, end_seconds)\n",
    "    clips.append(c)\n",
    "\n",
    "final_clip1 = mp.concatenate_videoclips(clips)\n",
    "final_clip1 = mp.concatenate_videoclips((final_clip1, final_clip1))\n",
    "\n",
    "#crop region of interest\n",
    "x1 = video.w*0.25\n",
    "y1 = 0\n",
    "x2 = video.w*0.95\n",
    "y2 = video.h\n",
    "\n",
    "final_clip = final_clip1.crop(x1, y1, x2, y2)\n",
    "final_clip.write_videofile(\"tbbt-sheldon2.mp4\")\n",
    "final_clip.close()"
   ]
  },
  {
   "cell_type": "code",
   "execution_count": 7,
   "metadata": {},
   "outputs": [
    {
     "name": "stderr",
     "output_type": "stream",
     "text": [
      "\r",
      "t:   0%|                                                                                                                                                            | 0/625 [00:00<?, ?it/s, now=None]"
     ]
    },
    {
     "name": "stdout",
     "output_type": "stream",
     "text": [
      "480.0 0 1824.0 1080\n",
      "Moviepy - Building video tbbt-sheldon2.mp4.\n",
      "Moviepy - Writing video tbbt-sheldon2.mp4\n",
      "\n"
     ]
    },
    {
     "name": "stderr",
     "output_type": "stream",
     "text": [
      "                                                                                                                                                                                                      \r"
     ]
    },
    {
     "name": "stdout",
     "output_type": "stream",
     "text": [
      "Moviepy - Done !\n",
      "Moviepy - video ready tbbt-sheldon2.mp4\n"
     ]
    }
   ],
   "source": [
    "video = mp.VideoFileClip(\"tbbt-sheldon.mp4\")\n",
    "x1 = video.w*0.25\n",
    "y1 = 0\n",
    "x2 = video.w*0.95\n",
    "y2 = video.h\n",
    "print(x1, y1, x2, y2)\n",
    "final_clip = video.crop(x1, y1, x2, y2)\n",
    "final_clip.write_videofile(\"tbbt-sheldon2.mp4\")\n",
    "final_clip.close()"
   ]
  },
  {
   "cell_type": "code",
   "execution_count": null,
   "metadata": {},
   "outputs": [],
   "source": []
  }
 ],
 "metadata": {
  "kernelspec": {
   "display_name": "Python 3",
   "language": "python",
   "name": "python3"
  },
  "language_info": {
   "codemirror_mode": {
    "name": "ipython",
    "version": 3
   },
   "file_extension": ".py",
   "mimetype": "text/x-python",
   "name": "python",
   "nbconvert_exporter": "python",
   "pygments_lexer": "ipython3",
   "version": "3.7.8"
  }
 },
 "nbformat": 4,
 "nbformat_minor": 4
}
