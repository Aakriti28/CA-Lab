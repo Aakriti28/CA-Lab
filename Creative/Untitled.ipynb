{
 "cells": [
  {
   "cell_type": "code",
   "execution_count": 1,
   "metadata": {},
   "outputs": [],
   "source": [
    "from os.path import dirname, join as pjoin\n",
    "from scipy.io import wavfile\n",
    "import scipy.io\n",
    "import numpy as np"
   ]
  },
  {
   "cell_type": "code",
   "execution_count": 16,
   "metadata": {},
   "outputs": [
    {
     "name": "stdout",
     "output_type": "stream",
     "text": [
      "1.4048072562358276 (30976,)\n",
      "4.820226757369615 (106286,)\n",
      "22050 int16 181362\n"
     ]
    }
   ],
   "source": [
    "tol = 0\n",
    "lens = []\n",
    "dats = []\n",
    "for i in range (1, 3):\n",
    "    sr, data = wavfile.read(\"sheldon_scene1_d{}.wav\".format(i))\n",
    "    print(len(data)/sr, data.shape)\n",
    "    lens.append((tol, tol+len(data)))\n",
    "    tol+=len(data)+int(1*sr)\n",
    "    dats.append(data)\n",
    "    \n",
    "print(sr, data.dtype, tol)"
   ]
  },
  {
   "cell_type": "code",
   "execution_count": 17,
   "metadata": {},
   "outputs": [],
   "source": [
    "new = np.zeros((tol+2*int(1*sr),), dtype=np.int16)\n",
    "\n",
    "for i, x in enumerate(lens):\n",
    "    new[x[0]:x[1]] = dats[i]\n",
    "wavfile.write(\"sheldon_full12.wav\", sr, np.array(new))"
   ]
  },
  {
   "cell_type": "raw",
   "metadata": {},
   "source": []
  }
 ],
 "metadata": {
  "kernelspec": {
   "display_name": "Python 3",
   "language": "python",
   "name": "python3"
  },
  "language_info": {
   "codemirror_mode": {
    "name": "ipython",
    "version": 3
   },
   "file_extension": ".py",
   "mimetype": "text/x-python",
   "name": "python",
   "nbconvert_exporter": "python",
   "pygments_lexer": "ipython3",
   "version": "3.7.8"
  }
 },
 "nbformat": 4,
 "nbformat_minor": 4
}
