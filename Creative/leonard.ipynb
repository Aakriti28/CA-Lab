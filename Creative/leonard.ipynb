{
 "cells": [
  {
   "cell_type": "code",
   "execution_count": 2,
   "metadata": {},
   "outputs": [],
   "source": [
    "import moviepy.editor as mp"
   ]
  },
  {
   "cell_type": "code",
   "execution_count": 12,
   "metadata": {},
   "outputs": [
    {
     "name": "stderr",
     "output_type": "stream",
     "text": [
      "\r",
      "t:   0%|                                                                                                                                                           | 0/1225 [00:00<?, ?it/s, now=None]"
     ]
    },
    {
     "name": "stdout",
     "output_type": "stream",
     "text": [
      "Moviepy - Building video tbbt-sheldon2.mp4.\n",
      "Moviepy - Writing video tbbt-sheldon2.mp4\n",
      "\n"
     ]
    },
    {
     "name": "stderr",
     "output_type": "stream",
     "text": [
      "                                                                                                                                                                                                      \r"
     ]
    },
    {
     "name": "stdout",
     "output_type": "stream",
     "text": [
      "Moviepy - Done !\n",
      "Moviepy - video ready tbbt-sheldon2.mp4\n"
     ]
    }
   ],
   "source": [
    "video = mp.VideoFileClip(\"tbbt1.mp4\")\n",
    "\n",
    "# delete video fragment from 00:30 to 01:00\n",
    "segments = [(24.5, 31),\n",
    "           (37, 42),\n",
    "           (45, 47),\n",
    "           (66, 70),\n",
    "           (73, 80)\n",
    "           ]\n",
    "\n",
    "clips = []  # list of all video fragments\n",
    "for start_seconds, end_seconds in segments:\n",
    "    # crop a video clip and add it to list\n",
    "    c = video.subclip(start_seconds, end_seconds)\n",
    "    clips.append(c)\n",
    "\n",
    "final_clip1 = mp.concatenate_videoclips(clips)\n",
    "final_clip1 = mp.concatenate_videoclips((final_clip1, final_clip1))\n",
    "\n",
    "#crop region of interest\n",
    "x1 = video.w*0.25\n",
    "y1 = 0\n",
    "x2 = video.w*0.95\n",
    "y2 = video.h\n",
    "\n",
    "final_clip = final_clip1.crop(x1, y1, x2, y2)\n",
    "final_clip.write_videofile(\"tbbt-sheldon2.mp4\")\n",
    "final_clip.close()"
   ]
  },
  {
   "cell_type": "code",
   "execution_count": 7,
   "metadata": {},
   "outputs": [
    {
     "name": "stderr",
     "output_type": "stream",
     "text": [
      "\r",
      "t:   0%|                                                                                                                                                            | 0/625 [00:00<?, ?it/s, now=None]"
     ]
    },
    {
     "name": "stdout",
     "output_type": "stream",
     "text": [
      "480.0 0 1824.0 1080\n",
      "Moviepy - Building video tbbt-sheldon2.mp4.\n",
      "Moviepy - Writing video tbbt-sheldon2.mp4\n",
      "\n"
     ]
    },
    {
     "name": "stderr",
     "output_type": "stream",
     "text": [
      "                                                                                                                                                                                                      \r"
     ]
    },
    {
     "name": "stdout",
     "output_type": "stream",
     "text": [
      "Moviepy - Done !\n",
      "Moviepy - video ready tbbt-sheldon2.mp4\n"
     ]
    }
   ],
   "source": [
    "video = mp.VideoFileClip(\"tbbt-sheldon.mp4\")\n",
    "x1 = video.w*0.25\n",
    "y1 = 0\n",
    "x2 = video.w*0.95\n",
    "y2 = video.h\n",
    "print(x1, y1, x2, y2)\n",
    "final_clip = video.crop(x1, y1, x2, y2)\n",
    "final_clip.write_videofile(\"tbbt-sheldon2.mp4\")\n",
    "final_clip.close()"
   ]
  },
  {
   "cell_type": "code",
   "execution_count": null,
   "metadata": {},
   "outputs": [],
   "source": []
  }
 ],
 "metadata": {
  "kernelspec": {
   "display_name": "Python 3",
   "language": "python",
   "name": "python3"
  },
  "language_info": {
   "codemirror_mode": {
    "name": "ipython",
    "version": 3
   },
   "file_extension": ".py",
   "mimetype": "text/x-python",
   "name": "python",
   "nbconvert_exporter": "python",
   "pygments_lexer": "ipython3",
   "version": "3.7.8"
  }
 },
 "nbformat": 4,
 "nbformat_minor": 4
}
